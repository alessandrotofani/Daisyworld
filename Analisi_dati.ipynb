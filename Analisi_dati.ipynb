{
  "nbformat": 4,
  "nbformat_minor": 0,
  "metadata": {
    "colab": {
      "name": "Daisyworld.ipynb",
      "provenance": [],
      "authorship_tag": "ABX9TyPzuAWgrnF/OVDCkCQ0TT88",
      "include_colab_link": true
    },
    "kernelspec": {
      "name": "python3",
      "display_name": "Python 3"
    },
    "language_info": {
      "name": "python"
    }
  },
  "cells": [
    {
      "cell_type": "markdown",
      "metadata": {
        "id": "view-in-github",
        "colab_type": "text"
      },
      "source": [
        "<a href=\"https://colab.research.google.com/github/alessandrotofani/Daisyworld/blob/main/Analisi_dati.ipynb\" target=\"_parent\"><img src=\"https://colab.research.google.com/assets/colab-badge.svg\" alt=\"Open In Colab\"/></a>"
      ]
    },
    {
      "cell_type": "code",
      "metadata": {
        "id": "p265Z265aCsZ"
      },
      "source": [
        "import numpy as np \n",
        "import pandas as pd \n",
        "import matplotlib\n",
        "import matplotlib.pyplot as plt\n",
        "import seaborn as sns\n",
        "import os\n",
        "import sys \n",
        "# from google.colab import drive\n",
        "# drive.mount('/content/drive')"
      ],
      "execution_count": 2,
      "outputs": []
    },
    {
      "cell_type": "code",
      "metadata": {
        "id": "tDFRzOpTh8DI"
      },
      "source": [
        "total = 1089\n",
        "temp_total = [297.7520881734454,296.7271088059992,295.87074458483175,296.2998548414818,295.1152778285814,293.91626206693684,294.8621615086413,287.8295234218698,291.94437618638887,294.46308538334955,296.8549258112172,295.8277307369867,295.63393585360564,287.2438582313134,291.86227603541147,295.4973328725222,299.1695132109944,297.8013028152651,296.9542250142024,286.4889401195325,288.18697013189205,290.4937227035675,292.8761984672811,293.9308836754226,294.7462337640011,295.35333529900845,295.755999267701,295.9817769454383,280.8788345629406,274.29227734282273,266.9892253879328,264.1043610072465,263.9227834774362,263.9227834774362,297.7520881734454,296.6560279268298,295.51172105675823,296.2998548414818,295.1152778285814,294.2811495007795,295.07915821737583,298.9230901307479,295.2235571635583,291.7502095074648,294.10617301901055,294.7462337640011,294.4267251819547,294.4267251819547,294.4267251819547,294.4267251819547,294.4267251819547,294.4267251819547,294.4267251819547,294.4267251819547,300.9015110686277,298.4179299905363,294.0477780646745,290.25108835306906,290.205526607948,290.478575860817,291.7875793650931,292.45779489557236,292.9020583587933,292.94637367262015,292.9020583587933,292.7689915908935,292.7689915908935,292.8133673392827,297.502123150216,295.93164877411834,293.3847491760837,291.6492390998371,289.63418563455775,288.2838729391922,287.37301203534986,287.016437550195,287.016437550195,287.16941785015763,287.42384302911887,287.62689779582996,287.93067596723944,288.18309198586695,295.4541557046446,298.138119153125,302.9251725759382,308.95988114604205,317.21509719170655,323.075801132772,326.19032780638446,326.19032780638446]\n",
        "luminosity = [1,1,1,1,1,1,1,0.9,0.9,0.9,0.9,0.9,0.9,0.8,0.8,0.8,0.8,0.8,0.8,0.7,0.7,0.7,0.7,0.7,0.7,0.7,0.7,0.7,0.6,0.6,0.6,0.6,0.6,0.6,1,1,1,1,1,1,1,1.1,1.1,1.1,1.1,1.1,1.1,1.1,1.1,1.1,1.1,1.1,1.1,1.1,1.2,1.2,1.2,1.2,1.2,1.2,1.2,1.2,1.2,1.2,1.2,1.2,1.2,1.2,1.3,1.3,1.3,1.3,1.3,1.3,1.3,1.3,1.3,1.3,1.3,1.3,1.3,1.3,1.4,1.4,1.4,1.4,1.4,1.4,1.4,1.4]\n",
        "black = [493,499,487,332,372,460,473,482,520,580,617,601,598,601,635,694,761,779,764,751,699,673,653,694,726,750,766,775,616,363,103,6,0,0,493,498,482,350,405,465,476,404,355,342,371,379,375,375,375,375,375,375,375,375,375,279,230,165,211,231,263,276,281,280,279,279,280,280,200,124,40,37,28,29,30,33,37,41,46,50,55,59,44,24,3,0,0,0,0,0]\n",
        "white = [554,589,601,434,507,628,615,606,524,508,471,487,490,487,370,305,242,309,324,337,223,111,0,0,0,0,0,0,0,0,0,0,0,0,554,590,606,452,540,623,612,627,673,746,717,709,713,713,713,713,713,713,713,713,713,677,730,750,797,811,814,812,807,805,805,808,809,808,755,713,683,716,748,776,795,805,809,810,810,810,809,808,756,682,561,425,230,82,0,0]"
      ],
      "execution_count": 5,
      "outputs": []
    },
    {
      "cell_type": "code",
      "metadata": {
        "colab": {
          "base_uri": "https://localhost:8080/"
        },
        "id": "X7nJftG5lU-G",
        "outputId": "b70a4dc6-1491-46f2-c55f-10b36d0ded00"
      },
      "source": [
        "luminosity_values = [el for el in set(luminosity)]\n",
        "luminosity_values"
      ],
      "execution_count": 19,
      "outputs": [
        {
          "output_type": "execute_result",
          "data": {
            "text/plain": [
              "[0.9, 1, 0.6, 0.8, 0.7, 1.1, 1.2, 1.3, 1.4]"
            ]
          },
          "metadata": {
            "tags": []
          },
          "execution_count": 19
        }
      ]
    },
    {
      "cell_type": "code",
      "metadata": {
        "id": "XCM38ao4q4Dm"
      },
      "source": [
        "temp = {} # (luminosity: [temps])\n",
        "for i in luminosity_values:\n",
        "  temp[i] = []\n",
        "  for j in range(len(luminosity)):\n",
        "    if i == luminosity[j]:\n",
        "      temp[i].append(temp_total[j])\n",
        "temp"
      ],
      "execution_count": null,
      "outputs": []
    },
    {
      "cell_type": "code",
      "metadata": {
        "colab": {
          "base_uri": "https://localhost:8080/"
        },
        "id": "NC7xvPHCrxrX",
        "outputId": "e0f5fb26-b8bc-46db-83b9-494380ed4383"
      },
      "source": [
        "import statistics \n",
        "mean = {}\n",
        "std = {}\n",
        "for lum in temp:\n",
        "  mean[lum] = statistics.mean(temp[lum])\n",
        "  std[lum] = statistics.stdev(temp[lum])\n",
        "\n",
        "print('Mean values of temperatures', mean)\n",
        "print('Standard deviations', std)"
      ],
      "execution_count": 30,
      "outputs": [
        {
          "output_type": "stream",
          "text": [
            "Mean values of temperatures {0.9: 293.75892956556964, 1: 295.8027696682264, 0.6: 269.01837754263585, 0.8: 294.7547513632848, 0.7: 292.64600670820494, 1.1: 294.6279280800323, 1.2: 293.260687508401, 1.3: 289.723259466997, 1.4: 312.26861031462465}\n",
            "Standard deviations {0.9: 3.3563991484521045, 1: 1.1764856779042259, 0.6: 7.052370304578724, 0.8: 4.448384846722424, 0.7: 3.4761454631873945, 1.1: 1.5191702959748894, 1.2: 2.9818040334418074, 1.3: 3.5106163124034966, 1.4: 12.589880990188526}\n"
          ],
          "name": "stdout"
        }
      ]
    },
    {
      "cell_type": "code",
      "metadata": {
        "colab": {
          "base_uri": "https://localhost:8080/"
        },
        "id": "v6DFrxEltStm",
        "outputId": "c4715e62-3d2c-4462-91f6-e5a31c72d708"
      },
      "source": [
        "data = {}\n",
        "data['luminosity'] = [el for el in mean]\n",
        "data['temperature'] = [mean[el] for el in mean]"
      ],
      "execution_count": 40,
      "outputs": [
        {
          "output_type": "execute_result",
          "data": {
            "text/plain": [
              "{'luminosity': [0.9, 1, 0.6, 0.8, 0.7, 1.1, 1.2, 1.3, 1.4],\n",
              " 'temperature': [293.75892956556964,\n",
              "  295.8027696682264,\n",
              "  269.01837754263585,\n",
              "  294.7547513632848,\n",
              "  292.64600670820494,\n",
              "  294.6279280800323,\n",
              "  293.260687508401,\n",
              "  289.723259466997,\n",
              "  312.26861031462465]}"
            ]
          },
          "metadata": {
            "tags": []
          },
          "execution_count": 40
        }
      ]
    },
    {
      "cell_type": "code",
      "metadata": {
        "colab": {
          "base_uri": "https://localhost:8080/",
          "height": 296
        },
        "id": "BcXsXUyquFo8",
        "outputId": "019a0fa9-7ae5-4ce6-b48f-10f47094e315"
      },
      "source": [
        "import seaborn as sns\n",
        "sns.scatterplot(data=data, x=\"luminosity\", y=\"temperature\")"
      ],
      "execution_count": 41,
      "outputs": [
        {
          "output_type": "execute_result",
          "data": {
            "text/plain": [
              "<matplotlib.axes._subplots.AxesSubplot at 0x7ff484b02650>"
            ]
          },
          "metadata": {
            "tags": []
          },
          "execution_count": 41
        },
        {
          "output_type": "display_data",
          "data": {
            "image/png": "[encoded data removed]",
            "text/plain": [
              "<Figure size 432x288 with 1 Axes>"
            ]
          },
          "metadata": {
            "tags": [],
            "needs_background": "light"
          }
        }
      ]
    }
  ]
}